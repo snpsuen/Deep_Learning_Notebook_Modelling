{
  "nbformat": 4,
  "nbformat_minor": 0,
  "metadata": {
    "colab": {
      "provenance": [],
      "collapsed_sections": [],
      "private_outputs": true
    },
    "kernelspec": {
      "name": "python3",
      "display_name": "Python 3"
    },
    "language_info": {
      "name": "python"
    }
  },
  "cells": [
    {
      "cell_type": "code",
      "execution_count": null,
      "metadata": {
        "id": "visCDZMbdb6G"
      },
      "outputs": [],
      "source": [
        "# example of a cnn for image classification\n",
        "import cv2\n",
        "import tensorflow as tf\n",
        "from numpy import asarray\n",
        "from numpy import unique\n",
        "from numpy import argmax\n",
        "from matplotlib import pyplot\n",
        "from tensorflow.keras.datasets.fashion_mnist import load_data\n",
        "from tensorflow.keras import Sequential\n",
        "from tensorflow.keras.layers import Dense\n",
        "from tensorflow.keras.layers import Conv2D\n",
        "from tensorflow.keras.layers import MaxPool2D\n",
        "from tensorflow.keras.layers import Flatten\n",
        "from tensorflow.keras.layers import Dropout\n",
        "from google.colab import drive\n",
        "from google.colab.patches import cv2_imshow"
      ]
    },
    {
      "cell_type": "code",
      "source": [
        "# load dataset\n",
        "(train_images, train_labels), (test_images, test_labels) = load_data()\n",
        "class_names = ['T-shirt/top', 'Trouser', 'Pullover', 'Dress', 'Coat', 'Sandal', 'Shirt', 'Sneaker', 'Bag', 'Ankle boot']\n",
        "# summarize loaded dataset\n",
        "print(\"Train: train_images.shape = %s, train_labels.shape = %s\" % (train_images.shape, train_labels.shape))\n",
        "print(\"Test: test_images.shape = %s, test_labels.shape = %s\" % (test_images.shape, test_labels.shape))"
      ],
      "metadata": {
        "id": "_q48XmhKdxWL"
      },
      "execution_count": null,
      "outputs": []
    },
    {
      "cell_type": "code",
      "source": [
        "# plot first few images\n",
        "pyplot.figure(figsize=(10,10))\n",
        "for i in range(64):\n",
        "  # define subplot\n",
        "  pyplot.subplot(8, 8, i+1)\n",
        "  pyplot.xticks([])\n",
        "  pyplot.yticks([])\n",
        "  pyplot.grid(False)\n",
        "  # plot raw pixel data\n",
        "  pyplot.imshow(train_images[i], cmap=pyplot.cm.binary)\n",
        "  pyplot.xlabel(class_names[train_labels[i]])\n",
        "# show the figure\n",
        "pyplot.show()"
      ],
      "metadata": {
        "id": "IR2VafXPd6uK"
      },
      "execution_count": null,
      "outputs": []
    },
    {
      "cell_type": "code",
      "source": [
        "# reshape data to have a single channel\n",
        "train_images = train_images.reshape((train_images.shape[0], train_images.shape[1], train_images.shape[2], 1))\n",
        "test_images = test_images.reshape((test_images.shape[0], test_images.shape[1], test_images.shape[2], 1))\n",
        "# determine the shape of the input images\n",
        "in_shape = train_images.shape[1:]\n",
        "# determine the number of classes\n",
        "n_classes = len(unique(train_labels))\n",
        "print('After reshape, train_images.shape = %s, test_images.shape = %s' %(train_images.shape, test_images.shape))\n",
        "print('in_shape = %s, n_classes = %s' %(in_shape, n_classes))\n",
        "# normalize pixel values\n",
        "train_images = train_images.astype('float32') / 255.0\n",
        "test_images = test_images.astype('float32') / 255.0"
      ],
      "metadata": {
        "id": "e6hmYcpebn-K"
      },
      "execution_count": null,
      "outputs": []
    },
    {
      "cell_type": "code",
      "source": [
        "# define model\n",
        "model = Sequential()\n",
        "model.add(Conv2D(32, (3,3), activation='relu', kernel_initializer='he_uniform', input_shape=in_shape))\n",
        "model.add(MaxPool2D((2, 2)))\n",
        "model.add(Conv2D(64, (3,3), activation='relu', kernel_initializer='he_uniform'))\n",
        "model.add(MaxPool2D((2, 2)))\n",
        "model.add(Flatten())\n",
        "model.add(Dense(128, activation='relu', kernel_initializer='he_uniform'))\n",
        "model.add(Dropout(0.5))\n",
        "model.add(Dense(n_classes, activation='softmax'))\n",
        "model.summary()"
      ],
      "metadata": {
        "id": "BaH_EoPMb3A8"
      },
      "execution_count": null,
      "outputs": []
    },
    {
      "cell_type": "code",
      "source": [
        "# define loss and optimizer\n",
        "model.compile(optimizer='adam', loss='sparse_categorical_crossentropy', metrics=['accuracy'])\n",
        "# fit the model\n",
        "model.fit(train_images, train_labels, epochs=10, batch_size=128, verbose=1)"
      ],
      "metadata": {
        "id": "-RjxweMfb7x8"
      },
      "execution_count": null,
      "outputs": []
    },
    {
      "cell_type": "code",
      "source": [
        "# evaluate the model\n",
        "loss, acc = model.evaluate(test_images, test_labels, verbose=0)\n",
        "print('Accuracy: %.3f' % acc)"
      ],
      "metadata": {
        "id": "izh6rmJtdQqx"
      },
      "execution_count": null,
      "outputs": []
    },
    {
      "cell_type": "code",
      "source": [
        "# make a prediction\n",
        "image = test_images[222]\n",
        "yhat = model.predict(asarray([image]))\n",
        "print(\"yhat = \", yhat)\n",
        "print('Predicted: class = %s' % class_names[argmax(yhat)])"
      ],
      "metadata": {
        "id": "JvJWfOxzdWoC"
      },
      "execution_count": null,
      "outputs": []
    },
    {
      "cell_type": "code",
      "source": [
        "# actual classification of test image\n",
        "pyplot.figure()\n",
        "pyplot.imshow(test_images[222].squeeze())\n",
        "pyplot.xlabel(class_names[test_labels[222]])\n",
        "pyplot.show()"
      ],
      "metadata": {
        "id": "4WLctoQydglP"
      },
      "execution_count": null,
      "outputs": []
    },
    {
      "cell_type": "code",
      "source": [
        "# Read an external image\n",
        "drive.mount(\"/content/drive\")\n",
        "img = cv2.imread('/content/drive/My Drive/fashion_example01.jpg', cv2.IMREAD_GRAYSCALE)\n",
        "cv2_imshow(img)\n",
        "print(\"Before preprossing, img.shape = \", img.shape)"
      ],
      "metadata": {
        "id": "FpxpxBHZdmCF"
      },
      "execution_count": null,
      "outputs": []
    },
    {
      "cell_type": "code",
      "source": [
        "# Resize and negate the image\n",
        "imgsize = 28\n",
        "img = cv2.bitwise_not(img)\n",
        "img = cv2.resize(img, (imgsize, imgsize))\n",
        "cv2_imshow(img)\n",
        "pyplot.figure()\n",
        "pyplot.imshow(img)\n",
        "pyplot.show()"
      ],
      "metadata": {
        "id": "HBtD4_zyd9dm"
      },
      "execution_count": null,
      "outputs": []
    },
    {
      "cell_type": "code",
      "source": [
        "# Reshape the image for the CNN fashion model\n",
        "img = tf.expand_dims(img, -1)\n",
        "img = tf.divide(img, 255)\n",
        "img = tf.reshape(img, [1, imgsize, imgsize, 1])\n",
        "print(\"After preprossing, img.shape = \", img.shape)"
      ],
      "metadata": {
        "id": "ul_hT-a4eJgK"
      },
      "execution_count": null,
      "outputs": []
    },
    {
      "cell_type": "code",
      "source": [
        "# Predict about the image\n",
        "yhat = model.predict(asarray(img))\n",
        "print(\"yhat = \", yhat)\n",
        "print('Predicted: class = %s' % class_names[argmax(yhat)])"
      ],
      "metadata": {
        "id": "P_TCqy_meXpy"
      },
      "execution_count": null,
      "outputs": []
    },
    {
      "cell_type": "code",
      "source": [
        "# save the model\n",
        "model.save(\"/content/drive/My Drive/CNN_Fashion_Colab_Model01\")\n",
        "print('Model saved as CNN_Fashion_Colab_Model01')"
      ],
      "metadata": {
        "id": "bW9z6e6h44Fo"
      },
      "execution_count": null,
      "outputs": []
    }
  ]
}