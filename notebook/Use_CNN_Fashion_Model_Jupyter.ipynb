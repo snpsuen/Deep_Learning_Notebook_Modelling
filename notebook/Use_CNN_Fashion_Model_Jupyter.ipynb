{
  "cells": [
    {
      "cell_type": "code",
      "execution_count": null,
      "id": "98eb5b6e-69ef-460c-ae89-ee53ec140bc2",
      "metadata": {
        "id": "98eb5b6e-69ef-460c-ae89-ee53ec140bc2"
      },
      "outputs": [],
      "source": [
        "import tensorflow as tf\n",
        "import cv2\n",
        "from tensorflow import keras\n",
        "from numpy import asarray, argmax\n",
        "from matplotlib import pyplot"
      ]
    },
    {
      "cell_type": "code",
      "execution_count": null,
      "id": "e7eb2227-9238-4580-a486-5ecc10763299",
      "metadata": {
        "id": "e7eb2227-9238-4580-a486-5ecc10763299"
      },
      "outputs": [],
      "source": [
        "class_names = ['T-shirt/top', 'Trouser', 'Pullover', 'Dress', 'Coat', 'Sandal', 'Shirt', 'Sneaker', 'Bag', 'Ankle boot']"
      ]
    },
    {
      "cell_type": "code",
      "execution_count": null,
      "id": "df1afa4d-01af-4358-bf4b-bac9bdc5b926",
      "metadata": {
        "id": "df1afa4d-01af-4358-bf4b-bac9bdc5b926"
      },
      "outputs": [],
      "source": [
        "model = tf.keras.models.load_model(\"/home/jovyan/model/CNN_Fashion_Colab_Model01\")"
      ]
    },
    {
      "cell_type": "code",
      "execution_count": null,
      "id": "5b37753e-846d-43ef-b465-bffec70b2e34",
      "metadata": {
        "id": "5b37753e-846d-43ef-b465-bffec70b2e34"
      },
      "outputs": [],
      "source": [
        "# Read an external image\n",
        "img = cv2.imread('/home/jovyan/input/fashion_example01.jpg', cv2.IMREAD_GRAYSCALE)\n",
        "# cv2.imshow('Example', img)\n",
        "# cv2.waitKey(0)\n",
        "# cv2.destroyAllWindows()\n",
        "pyplot.figure()\n",
        "pyplot.imshow(cv2.cvtColor(img, cv2.COLOR_BGR2RGB))\n",
        "pyplot.show()\n",
        "print(\"Before preprossing, img.shape = \", img.shape)"
      ]
    },
    {
      "cell_type": "code",
      "execution_count": null,
      "id": "9ae8007d-7cc3-4273-bada-b2542bf99d52",
      "metadata": {
        "id": "9ae8007d-7cc3-4273-bada-b2542bf99d52"
      },
      "outputs": [],
      "source": [
        "# Resize and negate the image\n",
        "imgsize = 28\n",
        "img = cv2.bitwise_not(img)\n",
        "img = cv2.resize(img, (imgsize, imgsize))\n",
        "# cv2.imshow('Reduced', img)\n",
        "# cv2.waitKey(0)\n",
        "# cv2.destroyAllWindows()\n",
        "pyplot.figure()\n",
        "pyplot.imshow(img)\n",
        "pyplot.show()"
      ]
    },
    {
      "cell_type": "code",
      "execution_count": null,
      "id": "2c822af5-cf99-4441-9c43-015f5e937944",
      "metadata": {
        "id": "2c822af5-cf99-4441-9c43-015f5e937944"
      },
      "outputs": [],
      "source": [
        "# Reshape the image for the CNN fashion model\n",
        "img = tf.expand_dims(img, -1)\n",
        "img = tf.divide(img, 255)\n",
        "img = tf.reshape(img, [1, imgsize, imgsize, 1])\n",
        "print(\"After preprossing, img.shape = \", img.shape)"
      ]
    },
    {
      "cell_type": "code",
      "execution_count": null,
      "id": "7b430717-4f30-4e8d-89ec-4aff73f8068c",
      "metadata": {
        "id": "7b430717-4f30-4e8d-89ec-4aff73f8068c"
      },
      "outputs": [],
      "source": [
        "# Predict about the image\n",
        "yhat = model.predict(asarray(img))\n",
        "print(\"yhat = \", yhat)\n",
        "print('Predicted: class = %s' % class_names[argmax(yhat)])"
      ]
    },
    {
      "cell_type": "code",
      "execution_count": null,
      "id": "9a4758b7-184f-4054-ad83-f9c072b17cea",
      "metadata": {
        "id": "9a4758b7-184f-4054-ad83-f9c072b17cea"
      },
      "outputs": [],
      "source": []
    }
  ],
  "metadata": {
    "kernelspec": {
      "display_name": "Python 3 (ipykernel)",
      "language": "python",
      "name": "python3"
    },
    "language_info": {
      "codemirror_mode": {
        "name": "ipython",
        "version": 3
      },
      "file_extension": ".py",
      "mimetype": "text/x-python",
      "name": "python",
      "nbconvert_exporter": "python",
      "pygments_lexer": "ipython3",
      "version": "3.10.6"
    },
    "colab": {
      "provenance": [],
      "collapsed_sections": [],
      "private_outputs": true
    }
  },
  "nbformat": 4,
  "nbformat_minor": 5
}